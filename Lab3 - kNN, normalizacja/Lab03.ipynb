{
 "cells": [
  {
   "cell_type": "markdown",
   "metadata": {},
   "source": [
    "## Laboratorium 3\n",
    "\n",
    "### Opis\n",
    "Celem laboratorium jest klasyfikacja liści za pomocą metody *k* najbliższych sąsiadów - *k*NN (*k Nearest Neighbors*) z wykorzystaniem normalizacji.\n",
    "\n",
    "\n",
    "### Zbiór danych\n",
    "\n",
    "Zbiór danych znajduje się w katalogu `dataset/*`. Jest to zmodyfikowany zbiór danych znajdujący się pod adresem: <https://archive.ics.uci.edu/ml/datasets/leaf>.\n",
    "\n",
    "### Przesyłanie zadań\n",
    "\n",
    "Wszystkie pliki należy spakować archiwizatorem **zip** i przesłać za pośrednictwem platformy WIKAMP. Poniżej oczekiwana zawartość archiwum:\n",
    "\n",
    "```\n",
    "+-- 📂 [IMIE.NAZWISKO].zip\n",
    "    +-- 📜 Lab03.ipynb\n",
    "    +-- 📂 dataset\n",
    "        +-- 📜 dataset.npz\n",
    "        +-- 📜 ReadMe.pdf\n",
    "```\n",
    "\n",
    "\n",
    "\n",
    "### Zadanie 1\n",
    "\n",
    "* Wybierz 10 dowolnych gatunków liści (będziesz je używać w kolejnych zadaniach).\n",
    "* Przeprowadź klasyfikację za pomocą klasyfikatora [*k*NN](https://scikit-learn.org/stable/modules/generated/sklearn.neighbors.KNeighborsClassifier.html).\n",
    "* Znajdź optymalne *k*.\n",
    "* Wyświetl najwyższy wynik klasyfikacji (*accuracy*).\n"
   ]
  },
  {
   "cell_type": "code",
   "execution_count": 119,
   "metadata": {},
   "outputs": [
    {
     "name": "stdout",
     "output_type": "stream",
     "text": [
      "best K=8, best score=0.7540106951871658\n"
     ]
    }
   ],
   "source": [
    "import numpy as np\n",
    "\n",
    "with open('./dataset/dataset.npz', 'rb') as f:\n",
    "    data = np.load(f)   \n",
    "    train, test = data['train'], data['test']\n",
    "train = train[(train[:,0] >= 3) & (train[:,0] <= 12)]\n",
    "train_t = train[:,0]\n",
    "train = train[:, 2:]\n",
    "test = test[(test[:,0] >= 3) & (test[:,0] <= 12)]\n",
    "test_t = test[:,0]\n",
    "test = test[:, 2:]\n",
    "from sklearn.neighbors import KNeighborsClassifier\n",
    "max_score = 0\n",
    "best_k = 1\n",
    "for k in range(1,50):\n",
    "    neigh = KNeighborsClassifier(n_neighbors=k)\n",
    "    neigh.fit(train, train_t)\n",
    "    score = neigh.score(test, test_t)\n",
    "    if score > max_score:\n",
    "        max_score = score\n",
    "        best_k = k\n",
    "print(f\"best K={best_k}, best score={max_score}\")"
   ]
  },
  {
   "cell_type": "markdown",
   "metadata": {},
   "source": [
    "### Zadanie 2\n",
    "* Znormalizuj dane w zakresie 0-1. Możesz do tego celu wykorzystać gotową funkcję z biblioteki scikit-learn https://scikit-learn.org/stable/modules/generated/sklearn.preprocessing.MinMaxScaler.html.\n",
    ">    **Ważne: współczynniki powinny być obliczone na zbiorze treningowym i te same powinny zostać zastosowane do normalizacji zbioru testowego.**\n",
    "* Ponownie wykonaj klasyfikację z tymi samymi parametrami (co w zadaniu 1), ale na danych znormalizowanych.\n",
    "* Wyświetl najwyższy wynik klasyfikacji (*accuracy*).\n"
   ]
  },
  {
   "cell_type": "code",
   "execution_count": 121,
   "metadata": {},
   "outputs": [
    {
     "name": "stdout",
     "output_type": "stream",
     "text": [
      "best K=31, best score=0.8449197860962567\n"
     ]
    }
   ],
   "source": [
    "from sklearn.preprocessing import MinMaxScaler\n",
    "from sklearn.preprocessing import StandardScaler\n",
    "\n",
    "scaler = MinMaxScaler()\n",
    "train = scaler.fit_transform(train)\n",
    "test = scaler.transform(test)\n",
    "max_score = 0\n",
    "best_k = 1\n",
    "for k in range(1,50):\n",
    "    neigh_2 = KNeighborsClassifier(n_neighbors=k)\n",
    "    neigh_2.fit(train, train_t)\n",
    "    score = neigh_2.score(test, test_t)\n",
    "    if score > max_score:\n",
    "        max_score = score\n",
    "        best_k = k\n",
    "print(f\"best K={best_k}, best score={max_score}\")"
   ]
  },
  {
   "cell_type": "markdown",
   "metadata": {},
   "source": [
    "### Zadanie 3\n",
    "\n",
    "Napisz wnioski"
   ]
  },
  {
   "cell_type": "markdown",
   "metadata": {},
   "source": [
    "Dla przypadku nie uwzględniającego normalizacji, optymalne k z zakresu 1-50 to 8 a accuracy 0.75 natomiast po normalizacji wynik ten wzrósł o 9% do poziomu 0.84 dla optymalnego k = 31.\\\n",
    "Przyczyn polepszenia wyniku możemy szukać w naturze normalizacji, która sprowadza cechy do przedziału (0-1) dzięki czemu żadna z cech nie jest faworyzowana ze względu na wysoką jej wartość."
   ]
  }
 ],
 "metadata": {
  "author": {
   "emails": [
    "rsusik@kis.p.lodz.pl"
   ],
   "name": "Robert Susik"
  },
  "kernelspec": {
   "display_name": "Python 3 (ipykernel)",
   "language": "python",
   "name": "python3"
  },
  "language_info": {
   "codemirror_mode": {
    "name": "ipython",
    "version": 3
   },
   "file_extension": ".py",
   "mimetype": "text/x-python",
   "name": "python",
   "nbconvert_exporter": "python",
   "pygments_lexer": "ipython3",
   "version": "3.11.8"
  },
  "toc": {
   "base_numbering": 1,
   "nav_menu": {},
   "number_sections": true,
   "sideBar": true,
   "skip_h1_title": false,
   "title_cell": "Table of Contents",
   "title_sidebar": "Contents",
   "toc_cell": false,
   "toc_position": {},
   "toc_section_display": true,
   "toc_window_display": true
  }
 },
 "nbformat": 4,
 "nbformat_minor": 4
}
